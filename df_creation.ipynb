{
 "cells": [
  {
   "cell_type": "markdown",
   "metadata": {},
   "source": [
    "# df creation\n",
    "This notebook creates each of the data frames that may be used by other notebooks, based on the registrar's data."
   ]
  },
  {
   "cell_type": "markdown",
   "metadata": {},
   "source": [
    "__Table of contents__\n",
    "- Coenrollment matrix: Coenrollment between exams\n",
    "- Exam size: The number of students taking each exam\n",
    "- By exam: List of students enrolled in each exam\n",
    "- By student: List of exams taken by each student\n",
    "- Exam courses: List of courses codes that are taking each exam\n"
   ]
  },
  {
   "cell_type": "code",
   "execution_count": 1,
   "metadata": {},
   "outputs": [],
   "source": [
    "import pandas as pd\n",
    "import numpy as np\n",
    "import matplotlib.pyplot as plt"
   ]
  },
  {
   "cell_type": "markdown",
   "metadata": {},
   "source": [
    "### Specify semester"
   ]
  },
  {
   "cell_type": "markdown",
   "metadata": {},
   "source": [
    "### Importing the registrar data"
   ]
  },
  {
   "cell_type": "code",
   "execution_count": 2,
   "metadata": {},
   "outputs": [],
   "source": [
    "df = pd.read_excel(\"fa22/fa22_StdntEnrl_09-10-2022.xlsx\", dtype={'Section': 'str', 'Catalog': 'str'})\n",
    "\n",
    "df['course'] = df['Subject'] +\"-\"+ df['Catalog']\n",
    "exam_df = df[(df['Final Exam'] == 'Y') | (df['Final Exam'] == 'YO')]\n",
    "exam_df = exam_df.sort_values(by=['PS Key']).reset_index()\n",
    "exam_df = exam_df[~exam_df['Exam Group Key'].isna()]\n",
    "exam_df['Exam Group Key'] = exam_df['Exam Group Key'].astype(str)"
   ]
  },
  {
   "cell_type": "code",
   "execution_count": 3,
   "metadata": {},
   "outputs": [
    {
     "data": {
      "text/html": [
       "<div>\n",
       "<style scoped>\n",
       "    .dataframe tbody tr th:only-of-type {\n",
       "        vertical-align: middle;\n",
       "    }\n",
       "\n",
       "    .dataframe tbody tr th {\n",
       "        vertical-align: top;\n",
       "    }\n",
       "\n",
       "    .dataframe thead th {\n",
       "        text-align: right;\n",
       "    }\n",
       "</style>\n",
       "<table border=\"1\" class=\"dataframe\">\n",
       "  <thead>\n",
       "    <tr style=\"text-align: right;\">\n",
       "      <th></th>\n",
       "      <th>index</th>\n",
       "      <th>ID</th>\n",
       "      <th>Term</th>\n",
       "      <th>Class Nbr</th>\n",
       "      <th>Course ID</th>\n",
       "      <th>Offer Nbr</th>\n",
       "      <th>Session</th>\n",
       "      <th>Section</th>\n",
       "      <th>Subject</th>\n",
       "      <th>Catalog</th>\n",
       "      <th>...</th>\n",
       "      <th>Mode</th>\n",
       "      <th>Comb Sect</th>\n",
       "      <th>Comb Sects ID</th>\n",
       "      <th>Acad Org</th>\n",
       "      <th>CrsAtr Val</th>\n",
       "      <th>PS Key</th>\n",
       "      <th>Final Exam</th>\n",
       "      <th>Location</th>\n",
       "      <th>Exam Group Key</th>\n",
       "      <th>course</th>\n",
       "    </tr>\n",
       "  </thead>\n",
       "  <tbody>\n",
       "    <tr>\n",
       "      <th>0</th>\n",
       "      <td>21326</td>\n",
       "      <td>5019814</td>\n",
       "      <td>2825</td>\n",
       "      <td>17503</td>\n",
       "      <td>352628</td>\n",
       "      <td>2</td>\n",
       "      <td>1</td>\n",
       "      <td>001</td>\n",
       "      <td>AAS</td>\n",
       "      <td>2130</td>\n",
       "      <td>...</td>\n",
       "      <td>P</td>\n",
       "      <td>C</td>\n",
       "      <td>7993.0</td>\n",
       "      <td>AAS</td>\n",
       "      <td>NaN</td>\n",
       "      <td>AAS-2130-LEC-1-17503</td>\n",
       "      <td>Y</td>\n",
       "      <td>ITH</td>\n",
       "      <td>1-7993C</td>\n",
       "      <td>AAS-2130</td>\n",
       "    </tr>\n",
       "    <tr>\n",
       "      <th>1</th>\n",
       "      <td>26739</td>\n",
       "      <td>5178621</td>\n",
       "      <td>2825</td>\n",
       "      <td>17503</td>\n",
       "      <td>352628</td>\n",
       "      <td>2</td>\n",
       "      <td>1</td>\n",
       "      <td>001</td>\n",
       "      <td>AAS</td>\n",
       "      <td>2130</td>\n",
       "      <td>...</td>\n",
       "      <td>P</td>\n",
       "      <td>C</td>\n",
       "      <td>7993.0</td>\n",
       "      <td>AAS</td>\n",
       "      <td>NaN</td>\n",
       "      <td>AAS-2130-LEC-1-17503</td>\n",
       "      <td>Y</td>\n",
       "      <td>ITH</td>\n",
       "      <td>1-7993C</td>\n",
       "      <td>AAS-2130</td>\n",
       "    </tr>\n",
       "    <tr>\n",
       "      <th>2</th>\n",
       "      <td>17032</td>\n",
       "      <td>5018861</td>\n",
       "      <td>2825</td>\n",
       "      <td>17503</td>\n",
       "      <td>352628</td>\n",
       "      <td>2</td>\n",
       "      <td>1</td>\n",
       "      <td>001</td>\n",
       "      <td>AAS</td>\n",
       "      <td>2130</td>\n",
       "      <td>...</td>\n",
       "      <td>P</td>\n",
       "      <td>C</td>\n",
       "      <td>7993.0</td>\n",
       "      <td>AAS</td>\n",
       "      <td>NaN</td>\n",
       "      <td>AAS-2130-LEC-1-17503</td>\n",
       "      <td>Y</td>\n",
       "      <td>ITH</td>\n",
       "      <td>1-7993C</td>\n",
       "      <td>AAS-2130</td>\n",
       "    </tr>\n",
       "    <tr>\n",
       "      <th>3</th>\n",
       "      <td>23070</td>\n",
       "      <td>5275712</td>\n",
       "      <td>2825</td>\n",
       "      <td>17503</td>\n",
       "      <td>352628</td>\n",
       "      <td>2</td>\n",
       "      <td>1</td>\n",
       "      <td>001</td>\n",
       "      <td>AAS</td>\n",
       "      <td>2130</td>\n",
       "      <td>...</td>\n",
       "      <td>P</td>\n",
       "      <td>C</td>\n",
       "      <td>7993.0</td>\n",
       "      <td>AAS</td>\n",
       "      <td>NaN</td>\n",
       "      <td>AAS-2130-LEC-1-17503</td>\n",
       "      <td>Y</td>\n",
       "      <td>ITH</td>\n",
       "      <td>1-7993C</td>\n",
       "      <td>AAS-2130</td>\n",
       "    </tr>\n",
       "    <tr>\n",
       "      <th>4</th>\n",
       "      <td>44696</td>\n",
       "      <td>5174467</td>\n",
       "      <td>2825</td>\n",
       "      <td>17503</td>\n",
       "      <td>352628</td>\n",
       "      <td>2</td>\n",
       "      <td>1</td>\n",
       "      <td>001</td>\n",
       "      <td>AAS</td>\n",
       "      <td>2130</td>\n",
       "      <td>...</td>\n",
       "      <td>P</td>\n",
       "      <td>C</td>\n",
       "      <td>7993.0</td>\n",
       "      <td>AAS</td>\n",
       "      <td>NaN</td>\n",
       "      <td>AAS-2130-LEC-1-17503</td>\n",
       "      <td>Y</td>\n",
       "      <td>ITH</td>\n",
       "      <td>1-7993C</td>\n",
       "      <td>AAS-2130</td>\n",
       "    </tr>\n",
       "  </tbody>\n",
       "</table>\n",
       "<p>5 rows × 27 columns</p>\n",
       "</div>"
      ],
      "text/plain": [
       "   index       ID  Term  Class Nbr  Course ID  Offer Nbr Session Section  \\\n",
       "0  21326  5019814  2825      17503     352628          2       1     001   \n",
       "1  26739  5178621  2825      17503     352628          2       1     001   \n",
       "2  17032  5018861  2825      17503     352628          2       1     001   \n",
       "3  23070  5275712  2825      17503     352628          2       1     001   \n",
       "4  44696  5174467  2825      17503     352628          2       1     001   \n",
       "\n",
       "  Subject Catalog  ... Mode  Comb Sect Comb Sects ID Acad Org  CrsAtr Val  \\\n",
       "0     AAS    2130  ...    P          C        7993.0      AAS         NaN   \n",
       "1     AAS    2130  ...    P          C        7993.0      AAS         NaN   \n",
       "2     AAS    2130  ...    P          C        7993.0      AAS         NaN   \n",
       "3     AAS    2130  ...    P          C        7993.0      AAS         NaN   \n",
       "4     AAS    2130  ...    P          C        7993.0      AAS         NaN   \n",
       "\n",
       "                 PS Key  Final Exam Location Exam Group Key    course  \n",
       "0  AAS-2130-LEC-1-17503           Y      ITH        1-7993C  AAS-2130  \n",
       "1  AAS-2130-LEC-1-17503           Y      ITH        1-7993C  AAS-2130  \n",
       "2  AAS-2130-LEC-1-17503           Y      ITH        1-7993C  AAS-2130  \n",
       "3  AAS-2130-LEC-1-17503           Y      ITH        1-7993C  AAS-2130  \n",
       "4  AAS-2130-LEC-1-17503           Y      ITH        1-7993C  AAS-2130  \n",
       "\n",
       "[5 rows x 27 columns]"
      ]
     },
     "execution_count": 3,
     "metadata": {},
     "output_type": "execute_result"
    }
   ],
   "source": [
    "exam_df.head(5)"
   ]
  },
  {
   "cell_type": "code",
   "execution_count": 4,
   "metadata": {},
   "outputs": [],
   "source": [
    "exams = exam_df['Exam Group Key'].unique()"
   ]
  },
  {
   "cell_type": "markdown",
   "metadata": {},
   "source": [
    "### Coenrollment matrix\n",
    "Shows the number of students coenrolled in any pair of exams. The matrix has a column for each exam as well as a row for each exam. Each value represents the number of students coenrolled in the column exam and the row exam."
   ]
  },
  {
   "cell_type": "code",
   "execution_count": 5,
   "metadata": {},
   "outputs": [
    {
     "data": {
      "text/html": [
       "<div>\n",
       "<style scoped>\n",
       "    .dataframe tbody tr th:only-of-type {\n",
       "        vertical-align: middle;\n",
       "    }\n",
       "\n",
       "    .dataframe tbody tr th {\n",
       "        vertical-align: top;\n",
       "    }\n",
       "\n",
       "    .dataframe thead th {\n",
       "        text-align: right;\n",
       "    }\n",
       "</style>\n",
       "<table border=\"1\" class=\"dataframe\">\n",
       "  <thead>\n",
       "    <tr style=\"text-align: right;\">\n",
       "      <th></th>\n",
       "      <th>1-7993C</th>\n",
       "      <th>20152</th>\n",
       "      <th>12197</th>\n",
       "      <th>12448</th>\n",
       "      <th>MLG01</th>\n",
       "      <th>12233</th>\n",
       "      <th>MLG02</th>\n",
       "      <th>12444</th>\n",
       "      <th>12446</th>\n",
       "      <th>MLG03</th>\n",
       "      <th>...</th>\n",
       "      <th>6487</th>\n",
       "      <th>2326</th>\n",
       "      <th>2382</th>\n",
       "      <th>1-1636C</th>\n",
       "      <th>1-2734C</th>\n",
       "      <th>1-7436C</th>\n",
       "      <th>5606</th>\n",
       "      <th>4763</th>\n",
       "      <th>5467</th>\n",
       "      <th>4790</th>\n",
       "    </tr>\n",
       "  </thead>\n",
       "  <tbody>\n",
       "    <tr>\n",
       "      <th>1-7993C</th>\n",
       "      <td>0</td>\n",
       "      <td>0</td>\n",
       "      <td>2</td>\n",
       "      <td>0</td>\n",
       "      <td>0</td>\n",
       "      <td>0</td>\n",
       "      <td>1</td>\n",
       "      <td>1</td>\n",
       "      <td>7</td>\n",
       "      <td>0</td>\n",
       "      <td>...</td>\n",
       "      <td>0</td>\n",
       "      <td>0</td>\n",
       "      <td>3</td>\n",
       "      <td>0</td>\n",
       "      <td>0</td>\n",
       "      <td>0</td>\n",
       "      <td>0</td>\n",
       "      <td>0</td>\n",
       "      <td>0</td>\n",
       "      <td>0</td>\n",
       "    </tr>\n",
       "    <tr>\n",
       "      <th>20152</th>\n",
       "      <td>0</td>\n",
       "      <td>0</td>\n",
       "      <td>2</td>\n",
       "      <td>8</td>\n",
       "      <td>0</td>\n",
       "      <td>0</td>\n",
       "      <td>2</td>\n",
       "      <td>0</td>\n",
       "      <td>14</td>\n",
       "      <td>0</td>\n",
       "      <td>...</td>\n",
       "      <td>0</td>\n",
       "      <td>0</td>\n",
       "      <td>0</td>\n",
       "      <td>1</td>\n",
       "      <td>1</td>\n",
       "      <td>0</td>\n",
       "      <td>0</td>\n",
       "      <td>0</td>\n",
       "      <td>0</td>\n",
       "      <td>0</td>\n",
       "    </tr>\n",
       "    <tr>\n",
       "      <th>12197</th>\n",
       "      <td>2</td>\n",
       "      <td>2</td>\n",
       "      <td>0</td>\n",
       "      <td>4</td>\n",
       "      <td>61</td>\n",
       "      <td>20</td>\n",
       "      <td>0</td>\n",
       "      <td>0</td>\n",
       "      <td>2</td>\n",
       "      <td>60</td>\n",
       "      <td>...</td>\n",
       "      <td>0</td>\n",
       "      <td>0</td>\n",
       "      <td>0</td>\n",
       "      <td>0</td>\n",
       "      <td>0</td>\n",
       "      <td>0</td>\n",
       "      <td>0</td>\n",
       "      <td>0</td>\n",
       "      <td>0</td>\n",
       "      <td>0</td>\n",
       "    </tr>\n",
       "    <tr>\n",
       "      <th>12448</th>\n",
       "      <td>0</td>\n",
       "      <td>8</td>\n",
       "      <td>4</td>\n",
       "      <td>0</td>\n",
       "      <td>0</td>\n",
       "      <td>0</td>\n",
       "      <td>3</td>\n",
       "      <td>0</td>\n",
       "      <td>50</td>\n",
       "      <td>2</td>\n",
       "      <td>...</td>\n",
       "      <td>0</td>\n",
       "      <td>2</td>\n",
       "      <td>0</td>\n",
       "      <td>1</td>\n",
       "      <td>0</td>\n",
       "      <td>0</td>\n",
       "      <td>0</td>\n",
       "      <td>0</td>\n",
       "      <td>0</td>\n",
       "      <td>0</td>\n",
       "    </tr>\n",
       "    <tr>\n",
       "      <th>MLG01</th>\n",
       "      <td>0</td>\n",
       "      <td>0</td>\n",
       "      <td>61</td>\n",
       "      <td>0</td>\n",
       "      <td>0</td>\n",
       "      <td>0</td>\n",
       "      <td>0</td>\n",
       "      <td>0</td>\n",
       "      <td>0</td>\n",
       "      <td>54</td>\n",
       "      <td>...</td>\n",
       "      <td>0</td>\n",
       "      <td>0</td>\n",
       "      <td>0</td>\n",
       "      <td>0</td>\n",
       "      <td>0</td>\n",
       "      <td>0</td>\n",
       "      <td>0</td>\n",
       "      <td>0</td>\n",
       "      <td>0</td>\n",
       "      <td>0</td>\n",
       "    </tr>\n",
       "  </tbody>\n",
       "</table>\n",
       "<p>5 rows × 588 columns</p>\n",
       "</div>"
      ],
      "text/plain": [
       "         1-7993C  20152  12197  12448  MLG01  12233  MLG02  12444  12446  \\\n",
       "1-7993C        0      0      2      0      0      0      1      1      7   \n",
       "20152          0      0      2      8      0      0      2      0     14   \n",
       "12197          2      2      0      4     61     20      0      0      2   \n",
       "12448          0      8      4      0      0      0      3      0     50   \n",
       "MLG01          0      0     61      0      0      0      0      0      0   \n",
       "\n",
       "         MLG03  ...  6487  2326  2382  1-1636C  1-2734C  1-7436C  5606  4763  \\\n",
       "1-7993C      0  ...     0     0     3        0        0        0     0     0   \n",
       "20152        0  ...     0     0     0        1        1        0     0     0   \n",
       "12197       60  ...     0     0     0        0        0        0     0     0   \n",
       "12448        2  ...     0     2     0        1        0        0     0     0   \n",
       "MLG01       54  ...     0     0     0        0        0        0     0     0   \n",
       "\n",
       "         5467  4790  \n",
       "1-7993C     0     0  \n",
       "20152       0     0  \n",
       "12197       0     0  \n",
       "12448       0     0  \n",
       "MLG01       0     0  \n",
       "\n",
       "[5 rows x 588 columns]"
      ]
     },
     "execution_count": 5,
     "metadata": {},
     "output_type": "execute_result"
    }
   ],
   "source": [
    "# Create a two column table -- first column is a unique student ID, second column is a list (with no duplicates) of the\n",
    "# classes that student is enrolled in for finals.\n",
    "by_student = exam_df.groupby('ID')['Exam Group Key'].apply(list).reset_index(name='Exam Groups')\n",
    "\n",
    "# Initialize coenrollment matrix as Pandas DataFrame.\n",
    "group_coenroll_matrix = pd.DataFrame(0, index=exams, columns=exams)\n",
    "\n",
    "# Iterate through students' course lists:\n",
    "# For each pairwise consideration of courses (i and j), add one to the (i,j) entry of the coenrollment matrix\n",
    "for group_list in by_student['Exam Groups']:\n",
    "    for i in group_list:\n",
    "        for j in group_list:\n",
    "            group_coenroll_matrix.at[i,j] += 1\n",
    "\n",
    "for i in group_coenroll_matrix.columns:\n",
    "    group_coenroll_matrix.at[i,i] = 0\n",
    "group_coenroll_matrix.columns = group_coenroll_matrix.columns.astype(str)\n",
    "group_coenroll_matrix.index = group_coenroll_matrix.index.astype(str)\n",
    "group_coenroll_matrix.head()"
   ]
  },
  {
   "cell_type": "code",
   "execution_count": 6,
   "metadata": {},
   "outputs": [],
   "source": [
    "group_coenroll_matrix.to_csv('fa22/coenrollment_matrix.csv', header=True, index=True)"
   ]
  },
  {
   "cell_type": "code",
   "execution_count": 7,
   "metadata": {},
   "outputs": [],
   "source": [
    "# Sample of importing the coenrollment matrix\n",
    "# co = pd.read_csv('fa22/coenrollment_matrix.csv', index_col='Unnamed: 0')\n",
    "# co.head(5)"
   ]
  },
  {
   "cell_type": "markdown",
   "metadata": {},
   "source": [
    "### Exam size\n",
    "Shows the number of students enrolled in each exam"
   ]
  },
  {
   "cell_type": "code",
   "execution_count": 8,
   "metadata": {},
   "outputs": [
    {
     "data": {
      "text/html": [
       "<div>\n",
       "<style scoped>\n",
       "    .dataframe tbody tr th:only-of-type {\n",
       "        vertical-align: middle;\n",
       "    }\n",
       "\n",
       "    .dataframe tbody tr th {\n",
       "        vertical-align: top;\n",
       "    }\n",
       "\n",
       "    .dataframe thead th {\n",
       "        text-align: right;\n",
       "    }\n",
       "</style>\n",
       "<table border=\"1\" class=\"dataframe\">\n",
       "  <thead>\n",
       "    <tr style=\"text-align: right;\">\n",
       "      <th></th>\n",
       "      <th>exam</th>\n",
       "      <th>size</th>\n",
       "    </tr>\n",
       "  </thead>\n",
       "  <tbody>\n",
       "    <tr>\n",
       "      <th>0</th>\n",
       "      <td>1-0111C</td>\n",
       "      <td>18</td>\n",
       "    </tr>\n",
       "    <tr>\n",
       "      <th>1</th>\n",
       "      <td>1-0295C</td>\n",
       "      <td>37</td>\n",
       "    </tr>\n",
       "    <tr>\n",
       "      <th>2</th>\n",
       "      <td>1-0305C</td>\n",
       "      <td>17</td>\n",
       "    </tr>\n",
       "    <tr>\n",
       "      <th>3</th>\n",
       "      <td>1-0337C</td>\n",
       "      <td>11</td>\n",
       "    </tr>\n",
       "    <tr>\n",
       "      <th>4</th>\n",
       "      <td>1-0363C</td>\n",
       "      <td>24</td>\n",
       "    </tr>\n",
       "  </tbody>\n",
       "</table>\n",
       "</div>"
      ],
      "text/plain": [
       "      exam  size\n",
       "0  1-0111C    18\n",
       "1  1-0295C    37\n",
       "2  1-0305C    17\n",
       "3  1-0337C    11\n",
       "4  1-0363C    24"
      ]
     },
     "execution_count": 8,
     "metadata": {},
     "output_type": "execute_result"
    }
   ],
   "source": [
    "exam_sizes = pd.DataFrame(exam_df.groupby(['Exam Group Key'])['ID'].count())\n",
    "exam_sizes = exam_sizes.reset_index()\n",
    "exam_sizes.columns = ['exam','size']\n",
    "exam_sizes.head()"
   ]
  },
  {
   "cell_type": "code",
   "execution_count": 9,
   "metadata": {},
   "outputs": [
    {
     "data": {
      "image/png": "[encoded data removed]",
      "text/plain": [
       "<Figure size 432x288 with 1 Axes>"
      ]
     },
     "metadata": {
      "needs_background": "light"
     },
     "output_type": "display_data"
    }
   ],
   "source": [
    "plt.hist(exam_sizes['size'], bins = 100);"
   ]
  },
  {
   "cell_type": "code",
   "execution_count": 10,
   "metadata": {},
   "outputs": [],
   "source": [
    "exam_sizes.to_csv('fa22/exam_sizes.csv', header=True, index=False)"
   ]
  },
  {
   "cell_type": "markdown",
   "metadata": {},
   "source": [
    "### By exam\n",
    "For each exam, shows a list of students (by cornell ID) who are enrolled in that exam."
   ]
  },
  {
   "cell_type": "code",
   "execution_count": 11,
   "metadata": {},
   "outputs": [
    {
     "data": {
      "text/html": [
       "<div>\n",
       "<style scoped>\n",
       "    .dataframe tbody tr th:only-of-type {\n",
       "        vertical-align: middle;\n",
       "    }\n",
       "\n",
       "    .dataframe tbody tr th {\n",
       "        vertical-align: top;\n",
       "    }\n",
       "\n",
       "    .dataframe thead th {\n",
       "        text-align: right;\n",
       "    }\n",
       "</style>\n",
       "<table border=\"1\" class=\"dataframe\">\n",
       "  <thead>\n",
       "    <tr style=\"text-align: right;\">\n",
       "      <th></th>\n",
       "      <th>exam</th>\n",
       "      <th>students</th>\n",
       "    </tr>\n",
       "  </thead>\n",
       "  <tbody>\n",
       "    <tr>\n",
       "      <th>0</th>\n",
       "      <td>1-0111C</td>\n",
       "      <td>[4870280, 5127371, 4992769, 5019059, 5019120, ...</td>\n",
       "    </tr>\n",
       "    <tr>\n",
       "      <th>1</th>\n",
       "      <td>1-0295C</td>\n",
       "      <td>[5235318, 5236934, 5137300, 5306558, 5235162, ...</td>\n",
       "    </tr>\n",
       "    <tr>\n",
       "      <th>2</th>\n",
       "      <td>1-0305C</td>\n",
       "      <td>[5257997, 5134680, 5057220, 5071246, 4906204, ...</td>\n",
       "    </tr>\n",
       "    <tr>\n",
       "      <th>3</th>\n",
       "      <td>1-0337C</td>\n",
       "      <td>[4997081, 5044246, 5054547, 4944321, 5063532, ...</td>\n",
       "    </tr>\n",
       "    <tr>\n",
       "      <th>4</th>\n",
       "      <td>1-0363C</td>\n",
       "      <td>[5179795, 5025162, 5261576, 5019685, 4570021, ...</td>\n",
       "    </tr>\n",
       "  </tbody>\n",
       "</table>\n",
       "</div>"
      ],
      "text/plain": [
       "      exam                                           students\n",
       "0  1-0111C  [4870280, 5127371, 4992769, 5019059, 5019120, ...\n",
       "1  1-0295C  [5235318, 5236934, 5137300, 5306558, 5235162, ...\n",
       "2  1-0305C  [5257997, 5134680, 5057220, 5071246, 4906204, ...\n",
       "3  1-0337C  [4997081, 5044246, 5054547, 4944321, 5063532, ...\n",
       "4  1-0363C  [5179795, 5025162, 5261576, 5019685, 4570021, ..."
      ]
     },
     "execution_count": 11,
     "metadata": {},
     "output_type": "execute_result"
    }
   ],
   "source": [
    "by_exam = exam_df.groupby('Exam Group Key')['ID'].apply(list).reset_index()\n",
    "by_exam.columns = ['exam', 'students']\n",
    "# by_exam['num'] = [len(i) for i in by_exam['ID']]  # number of students taking each exam\n",
    "by_exam.head()"
   ]
  },
  {
   "cell_type": "code",
   "execution_count": 12,
   "metadata": {},
   "outputs": [],
   "source": [
    "by_exam.to_csv('fa22/by_exam.csv', header=True, index=False)"
   ]
  },
  {
   "cell_type": "markdown",
   "metadata": {},
   "source": [
    "### By student\n",
    "For each student (by cornell ID), shows a list of the exams they are taking."
   ]
  },
  {
   "cell_type": "code",
   "execution_count": 13,
   "metadata": {},
   "outputs": [
    {
     "data": {
      "text/html": [
       "<div>\n",
       "<style scoped>\n",
       "    .dataframe tbody tr th:only-of-type {\n",
       "        vertical-align: middle;\n",
       "    }\n",
       "\n",
       "    .dataframe tbody tr th {\n",
       "        vertical-align: top;\n",
       "    }\n",
       "\n",
       "    .dataframe thead th {\n",
       "        text-align: right;\n",
       "    }\n",
       "</style>\n",
       "<table border=\"1\" class=\"dataframe\">\n",
       "  <thead>\n",
       "    <tr style=\"text-align: right;\">\n",
       "      <th></th>\n",
       "      <th>student</th>\n",
       "      <th>exams</th>\n",
       "    </tr>\n",
       "  </thead>\n",
       "  <tbody>\n",
       "    <tr>\n",
       "      <th>0</th>\n",
       "      <td>1008546</td>\n",
       "      <td>[19257]</td>\n",
       "    </tr>\n",
       "    <tr>\n",
       "      <th>1</th>\n",
       "      <td>1014228</td>\n",
       "      <td>[MLG34]</td>\n",
       "    </tr>\n",
       "    <tr>\n",
       "      <th>2</th>\n",
       "      <td>1021735</td>\n",
       "      <td>[1-7146C]</td>\n",
       "    </tr>\n",
       "    <tr>\n",
       "      <th>3</th>\n",
       "      <td>1086504</td>\n",
       "      <td>[1-0541C]</td>\n",
       "    </tr>\n",
       "    <tr>\n",
       "      <th>4</th>\n",
       "      <td>1105412</td>\n",
       "      <td>[1-8262C]</td>\n",
       "    </tr>\n",
       "  </tbody>\n",
       "</table>\n",
       "</div>"
      ],
      "text/plain": [
       "   student      exams\n",
       "0  1008546    [19257]\n",
       "1  1014228    [MLG34]\n",
       "2  1021735  [1-7146C]\n",
       "3  1086504  [1-0541C]\n",
       "4  1105412  [1-8262C]"
      ]
     },
     "execution_count": 13,
     "metadata": {},
     "output_type": "execute_result"
    }
   ],
   "source": [
    "by_exam = exam_df.groupby('ID')['Exam Group Key'].apply(list).reset_index()\n",
    "by_exam.columns = ['student', 'exams']\n",
    "by_exam.head()"
   ]
  },
  {
   "cell_type": "code",
   "execution_count": 14,
   "metadata": {},
   "outputs": [
    {
     "data": {
      "image/png": "[encoded data removed]",
      "text/plain": [
       "<Figure size 432x288 with 1 Axes>"
      ]
     },
     "metadata": {
      "needs_background": "light"
     },
     "output_type": "display_data"
    }
   ],
   "source": [
    "plt.hist(by_exam['exams'].apply(lambda x: len(x)));"
   ]
  },
  {
   "cell_type": "code",
   "execution_count": 15,
   "metadata": {},
   "outputs": [],
   "source": [
    "by_student.to_csv('fa22/by_student.csv', header=True, index=False)"
   ]
  },
  {
   "cell_type": "markdown",
   "metadata": {},
   "source": [
    "### Exam courses\n",
    "All courses that fall under a certain exam"
   ]
  },
  {
   "cell_type": "code",
   "execution_count": 16,
   "metadata": {},
   "outputs": [
    {
     "data": {
      "text/html": [
       "<div>\n",
       "<style scoped>\n",
       "    .dataframe tbody tr th:only-of-type {\n",
       "        vertical-align: middle;\n",
       "    }\n",
       "\n",
       "    .dataframe tbody tr th {\n",
       "        vertical-align: top;\n",
       "    }\n",
       "\n",
       "    .dataframe thead th {\n",
       "        text-align: right;\n",
       "    }\n",
       "</style>\n",
       "<table border=\"1\" class=\"dataframe\">\n",
       "  <thead>\n",
       "    <tr style=\"text-align: right;\">\n",
       "      <th></th>\n",
       "      <th>exam</th>\n",
       "      <th>courses</th>\n",
       "    </tr>\n",
       "  </thead>\n",
       "  <tbody>\n",
       "    <tr>\n",
       "      <th>0</th>\n",
       "      <td>1-0111C</td>\n",
       "      <td>[ENGL-3110, ENGL-6110, MEDVL-3110, MEDVL-6110]</td>\n",
       "    </tr>\n",
       "    <tr>\n",
       "      <th>1</th>\n",
       "      <td>1-0295C</td>\n",
       "      <td>[PHYS-2217]</td>\n",
       "    </tr>\n",
       "    <tr>\n",
       "      <th>2</th>\n",
       "      <td>1-0305C</td>\n",
       "      <td>[ASTRO-4445, PHYS-4445]</td>\n",
       "    </tr>\n",
       "    <tr>\n",
       "      <th>3</th>\n",
       "      <td>1-0337C</td>\n",
       "      <td>[LATA-2170, SPAN-2170]</td>\n",
       "    </tr>\n",
       "    <tr>\n",
       "      <th>4</th>\n",
       "      <td>1-0363C</td>\n",
       "      <td>[AEP-4500, AEP-5502, PHYS-4454]</td>\n",
       "    </tr>\n",
       "  </tbody>\n",
       "</table>\n",
       "</div>"
      ],
      "text/plain": [
       "      exam                                         courses\n",
       "0  1-0111C  [ENGL-3110, ENGL-6110, MEDVL-3110, MEDVL-6110]\n",
       "1  1-0295C                                     [PHYS-2217]\n",
       "2  1-0305C                         [ASTRO-4445, PHYS-4445]\n",
       "3  1-0337C                          [LATA-2170, SPAN-2170]\n",
       "4  1-0363C                 [AEP-4500, AEP-5502, PHYS-4454]"
      ]
     },
     "execution_count": 16,
     "metadata": {},
     "output_type": "execute_result"
    }
   ],
   "source": [
    "courses = exam_df[['course', 'Exam Group Key']].groupby(['Exam Group Key']).agg(['unique']).reset_index()\n",
    "courses.columns = ['exam', 'courses']\n",
    "courses.head()"
   ]
  },
  {
   "cell_type": "code",
   "execution_count": 17,
   "metadata": {},
   "outputs": [],
   "source": [
    "courses.to_csv('fa22/exam_courses.csv', header=True, index=False)"
   ]
  },
  {
   "cell_type": "code",
   "execution_count": null,
   "metadata": {},
   "outputs": [],
   "source": []
  }
 ],
 "metadata": {
  "kernelspec": {
   "display_name": "Python 3",
   "language": "python",
   "name": "python3"
  },
  "language_info": {
   "codemirror_mode": {
    "name": "ipython",
    "version": 3
   },
   "file_extension": ".py",
   "mimetype": "text/x-python",
   "name": "python",
   "nbconvert_exporter": "python",
   "pygments_lexer": "ipython3",
   "version": "3.8.5"
  }
 },
 "nbformat": 4,
 "nbformat_minor": 5
}
